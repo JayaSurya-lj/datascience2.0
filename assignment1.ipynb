{
 "cells": [
  {
   "attachments": {},
   "cell_type": "markdown",
   "metadata": {},
   "source": [
    "# ASSIGNMENT 1"
   ]
  },
  {
   "cell_type": "code",
   "execution_count": 1,
   "metadata": {},
   "outputs": [],
   "source": [
    "#Q1 ANSWER \n",
    "str1 = \"hello\"\n",
    "list1 = [2.3,5.7,\"hello\"]\n",
    "f1 = 2.4\n",
    "tup1 = (1,2,3,4,5)"
   ]
  },
  {
   "cell_type": "code",
   "execution_count": 3,
   "metadata": {},
   "outputs": [
    {
     "name": "stdout",
     "output_type": "stream",
     "text": [
      "<class 'str'>\n",
      "<class 'str'>\n",
      "<class 'list'>\n",
      "<class 'int'>\n"
     ]
    }
   ],
   "source": [
    "#Q2 ANSWER\n",
    "var1 = ''\n",
    "var2 = '[ DS , ML , Python]'\n",
    "var3 = [ 'DS' , 'ML' , 'Python' ]\n",
    "var4 = 1\n",
    "print(type(var1))\n",
    "print(type(var2))\n",
    "print(type(var3))\n",
    "print(type(var4))"
   ]
  },
  {
   "cell_type": "code",
   "execution_count": 6,
   "metadata": {},
   "outputs": [
    {
     "name": "stdout",
     "output_type": "stream",
     "text": [
      "2.5 \n",
      " 1 \n",
      " 2 \n",
      " 25\n"
     ]
    }
   ],
   "source": [
    "#Q3 ANSWER\n",
    "a = 5/2 #gives the result of 5 divides 2 in float form\n",
    "b = 5%2 #gives reminder\n",
    "c = 5//2 #gives floor division only the quotient\n",
    "d = 5**2 #gives the power 5 to the power 2\n",
    "print(a,\"\\n\",b,\"\\n\",c,\"\\n\",d)"
   ]
  },
  {
   "cell_type": "code",
   "execution_count": 7,
   "metadata": {},
   "outputs": [
    {
     "name": "stdout",
     "output_type": "stream",
     "text": [
      "1\n",
      "2\n",
      "3\n",
      "2.5\n",
      "a\n",
      "hello\n",
      "[1, 2, 4, 4]\n",
      "(4, 5, 5)\n",
      "hi\n",
      "6\n"
     ]
    }
   ],
   "source": [
    "l = [1,2,3,2.5,'a','hello',[1,2,4,4],(4,5,5),'hi',6]\n",
    "for i in l:\n",
    "    print(i)"
   ]
  },
  {
   "cell_type": "code",
   "execution_count": 1,
   "metadata": {},
   "outputs": [
    {
     "name": "stdout",
     "output_type": "stream",
     "text": [
      "The number  6  and  2 are not propely divisible\n"
     ]
    }
   ],
   "source": [
    "#Q5 ANSWER\n",
    "A = 6\n",
    "B = 2\n",
    "count = 0\n",
    "T = A\n",
    "while(T>B):\n",
    "    if(T%B!=0):\n",
    "        print(\"The number \",A,\" and \",B,\"are not propely divisible\")\n",
    "        break\n",
    "    T/=2\n",
    "    count+=1\n",
    "else:\n",
    "    print(\"The number \",A,\" is perfectly divisible by \",B, \"with a count of \",count)\n"
   ]
  },
  {
   "cell_type": "code",
   "execution_count": 2,
   "metadata": {},
   "outputs": [
    {
     "name": "stdout",
     "output_type": "stream",
     "text": [
      "1  is not divisible by 3\n",
      "2  is not divisible by 3\n",
      "3  is divisible by 3\n",
      "4  is not divisible by 3\n",
      "5  is not divisible by 3\n",
      "6  is divisible by 3\n",
      "7  is not divisible by 3\n",
      "8  is not divisible by 3\n",
      "9  is divisible by 3\n",
      "10  is not divisible by 3\n",
      "11  is not divisible by 3\n",
      "12  is divisible by 3\n",
      "13  is not divisible by 3\n",
      "14  is not divisible by 3\n",
      "15  is divisible by 3\n",
      "16  is not divisible by 3\n",
      "17  is not divisible by 3\n",
      "18  is divisible by 3\n",
      "19  is not divisible by 3\n",
      "20  is not divisible by 3\n",
      "21  is divisible by 3\n",
      "21  is divisible by 3\n",
      "23  is not divisible by 3\n",
      "24  is divisible by 3\n",
      "25  is not divisible by 3\n"
     ]
    }
   ],
   "source": [
    "#Q6 ANSWER\n",
    "l = [1,2,3,4,5,6,7,8,9,10,11,12,13,14,15,16,17,18,19,20,21,21,23,24,25]\n",
    "for i in l:\n",
    "    if i%3==0 :\n",
    "        print(i,\" is divisible by 3\")\n",
    "    else:\n",
    "        print(i,\" is not divisible by 3\")"
   ]
  },
  {
   "cell_type": "code",
   "execution_count": 4,
   "metadata": {},
   "outputs": [
    {
     "name": "stdout",
     "output_type": "stream",
     "text": [
      "[1, 2, 3, 4]\n"
     ]
    }
   ],
   "source": [
    "#Q7 ANSWER\n",
    "l = [1,2,3]\n",
    "str1 = \"hello\"\n",
    "#mutable means value can be added to the the data type list is mutable\n",
    "l.append(4)\n",
    "print(l)\n",
    "\n"
   ]
  },
  {
   "cell_type": "code",
   "execution_count": 5,
   "metadata": {},
   "outputs": [
    {
     "ename": "AttributeError",
     "evalue": "'str' object has no attribute 'append'",
     "output_type": "error",
     "traceback": [
      "\u001b[1;31m---------------------------------------------------------------------------\u001b[0m",
      "\u001b[1;31mAttributeError\u001b[0m                            Traceback (most recent call last)",
      "Cell \u001b[1;32mIn[5], line 2\u001b[0m\n\u001b[0;32m      1\u001b[0m \u001b[39m#immutable means value can not be added to the the data type string is immutable\u001b[39;00m\n\u001b[1;32m----> 2\u001b[0m str1\u001b[39m.\u001b[39;49mappend(\u001b[39m'\u001b[39m\u001b[39mo\u001b[39m\u001b[39m'\u001b[39m)\n\u001b[0;32m      3\u001b[0m \u001b[39mprint\u001b[39m(str1)\n",
      "\u001b[1;31mAttributeError\u001b[0m: 'str' object has no attribute 'append'"
     ]
    }
   ],
   "source": [
    "#immutable means value can not be added to the the data type string is immutable\n",
    "str1.append('o')\n",
    "print(str1)"
   ]
  }
 ],
 "metadata": {
  "kernelspec": {
   "display_name": "Python 3",
   "language": "python",
   "name": "python3"
  },
  "language_info": {
   "codemirror_mode": {
    "name": "ipython",
    "version": 3
   },
   "file_extension": ".py",
   "mimetype": "text/x-python",
   "name": "python",
   "nbconvert_exporter": "python",
   "pygments_lexer": "ipython3",
   "version": "3.10.7"
  },
  "orig_nbformat": 4
 },
 "nbformat": 4,
 "nbformat_minor": 2
}
